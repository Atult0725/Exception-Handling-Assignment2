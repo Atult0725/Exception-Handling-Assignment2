{
 "cells": [
  {
   "cell_type": "code",
   "execution_count": null,
   "id": "58f0d3c5-3d71-4fd0-83a7-7f3664360155",
   "metadata": {},
   "outputs": [],
   "source": [
    "'''Q1.Explain why we have to use the Exception class while creating a Custom Exception in python.\n",
    "\n",
    "Note: Here Exception class refers to the base class for all the exceptions.\n",
    "\n",
    "Ans-->\n",
    "When creating a custom exception in Python, we typically inherit from the built-in Exception class or one of its subclasses. This is because the Exception class provides a standard set of attributes and methods that are useful for handling and reporting errors.\n",
    "\n",
    "For example, the Exception class provides the ability to attach a custom error message to the exception, which can help developers diagnose and fix the problem. Additionally, the Exception class includes methods for retrieving the error message, as well as the line number and other information about where the exception was raised.\n",
    "\n",
    "By inheriting from the Exception class, we ensure that our custom exception behaves consistently with the rest of the exception hierarchy in Python, which makes it easier for other developers to understand and use our code.\n",
    "\n",
    "'''\n"
   ]
  },
  {
   "cell_type": "code",
   "execution_count": null,
   "id": "51983efe-d96f-4313-b369-772236628b03",
   "metadata": {},
   "outputs": [],
   "source": [
    "'''Q2. Write a python program to print Python Exception Hierarchy.\n",
    "\n",
    "'''\n",
    "def print_exception_hierarchy(exception_class, indent=0):\n",
    "    print(' ' * indent + exception_class.__name__)\n",
    "\n",
    "    for subclass in exception_class.__subclasses__():\n",
    "        print_exception_hierarchy(subclass, indent + 2)\n",
    "\n",
    "print_exception_hierarchy(BaseException)\n",
    "\n"
   ]
  },
  {
   "cell_type": "code",
   "execution_count": 1,
   "id": "655eee64-5dfa-4695-b246-da3a5921ebfc",
   "metadata": {},
   "outputs": [
    {
     "name": "stdout",
     "output_type": "stream",
     "text": [
      "Cannot divide by zero\n",
      "invalid literal for int() with base 10: 'sunny'\n"
     ]
    }
   ],
   "source": [
    "\n",
    "'''Q3. What errors are defined in the ArithmeticError class? Explain any two with an example.\n",
    "\n",
    "Ans-\n",
    "\n",
    "The ArithmeticError class in Python is a built-in exception class that is raised for arithmetic errors. It is the base class for a number of specific arithmetic exception classes. Some of the common exceptions defined in the ArithmeticError class include ZeroDivisionError, OverflowError, FloatingPointError, and ValueError.\n",
    "\n",
    "Here are two examples of exceptions that are defined in the ArithmeticError class:\n",
    "\n",
    "'''\n",
    "#Example 1 for ZeroDivisionError--\n",
    "'''ZeroDivisionError: This error is raised when a number is divided by zero. For example:\n",
    "'''\n",
    "a = 10\n",
    "b = 0\n",
    "\n",
    "try:\n",
    "    c = a / b\n",
    "except ZeroDivisionError:\n",
    "    print(\"Cannot divide by zero\")\n",
    "\n",
    "\n",
    "#Example 2 for ValueError\n",
    "'''ValueError is a built-in exception class in Python that is raised when a function or operation receives an argument that has the right type but an inappropriate value.\n",
    "\n",
    "For example, if you try to convert a string that does not represent a valid integer into an integer using the int() function, a ValueError will be raised:'''\n",
    "\n",
    "try:\n",
    "\n",
    "    s=\"sunny\"\n",
    "    print(int(s)) # Raises ValueError\n",
    "except ValueError as e:\n",
    "    print(e)\n"
   ]
  },
  {
   "cell_type": "code",
   "execution_count": 2,
   "id": "acb19774-a815-4ace-8cd0-65ebed569152",
   "metadata": {},
   "outputs": [
    {
     "name": "stdout",
     "output_type": "stream",
     "text": [
      "'d'\n",
      "list index out of range\n"
     ]
    }
   ],
   "source": [
    "'''Q4. Why LookupError class is used? Explain with an example KeyError and IndexError.\n",
    "\n",
    "Ans-\n",
    "The LookupError class is a built-in exception class in Python that serves as a base class for errors that occur when an index or key is not found during a lookup operation. This class is derived from the built-in Exception class and provides a consistent interface for handling lookup errors in Python.\n",
    "\n",
    "Here are two examples of errors that are derived from the LookupError class along with their explanations:\n",
    "\n",
    "'''\n",
    "#1.KeyError: This error is raised when a key is not found in a dictionary. For example:\n",
    "\n",
    "try:\n",
    "    dict1={'a':1,'b':2,'c':3}\n",
    "    print(dict1['d'])\n",
    "except KeyError as e:\n",
    "    print(e)\n",
    "\n",
    "#2.IndexError: This error is raised when an index is out of range in a sequence such as a list or tuple. For example:\n",
    "\n",
    "try:\n",
    "    l=[1,2,3,4]\n",
    "    print(l[6])\n",
    "except IndexError as e:\n",
    "    print(e)\n"
   ]
  },
  {
   "cell_type": "code",
   "execution_count": null,
   "id": "4e88eda9-48f6-47c8-a3d1-9c1f6993a81b",
   "metadata": {},
   "outputs": [],
   "source": [
    "\n",
    "'''\n",
    "Q5. Explain ImportError in python. What is ModuleNotFoundError ?\n",
    "\n",
    "In Python, the ImportError exception is raised when a module, package, or object cannot be imported. This can occur for a variety of reasons, such as the module not existing, the module being in the wrong location, or the module having errors that prevent it from being imported.\n",
    "\n",
    "The ImportError exception is a built-in exception class in Python that is derived from the built-in Exception class. It provides a consistent interface for handling import errors in Python and is often used in conjunction with other built-in exception classes such as ModuleNotFoundError.\n",
    "\n",
    "The ModuleNotFoundError exception is a subclass of ImportError that is raised when a module could not be found during an import operation. This exception was introduced in Python 3.6 as a more specific and informative version of the ImportError exception.\n",
    "\n",
    "Here's an example of how to use ModuleNotFoundError'''\n",
    "\n",
    "try:\n",
    "    import this_module_never_found\n",
    "except ModuleNotFoundError as e:\n",
    "    print(\"Moduled not found\",e.name)\n",
    "\n",
    "'''Overall, ImportError and ModuleNotFoundError are important built-in exception classes in Python that are used to handle errors related to importing modules and objects.'''"
   ]
  },
  {
   "cell_type": "raw",
   "id": "1364999a-b4d1-4448-ac16-b3b1c9a71bcc",
   "metadata": {},
   "source": [
    "\n",
    "'''Q6. List down some best practices for exception handling in python.\n",
    "\n",
    "Ans--\n",
    "\n",
    "Here are some best practices for exception handling in Python:\n",
    "\n",
    "1.Be specific about the exception: Catching a generic exception such as Exception or BaseException can mask bugs and make debugging harder. It's better to catch specific exceptions that you expect to occur in your code.\n",
    "\n",
    "2.Use the try-except block sparingly: A try-except block can hide exceptions and make it harder to diagnose problems. Use try-except blocks only around the code that you expect to raise an exception and not the entire program.\n",
    "\n",
    "3.Handle exceptions close to the source: If an exception is raised inside a function, it's better to handle it inside the function. This way, you can provide a more specific error message to the user, and the calling code can continue without interruption.\n",
    "\n",
    "4.Don't use exceptions for control flow: Exceptions should be used to handle exceptional cases, not for normal control flow. Using exceptions for control flow can make the code harder to read and maintain.\n",
    "\n",
    "5.Always include a message in your exception: When you raise an exception, always include a message that describes what went wrong. This makes it easier for other developers to understand the problem and fix it.\n",
    "\n",
    "6.Use context managers for resource cleanup: Context managers such as with statements can automatically clean up resources when they are no longer needed. This can help prevent resource leaks and other problems.\n",
    "\n",
    "7.Don't catch exceptions you can't handle: Catching an exception you can't handle can cause more problems than it solves. It's better to let the exception propagate up the call stack to a handler that can handle it.\n",
    "\n",
    "8.Test your exception handling code: Exception handling code is just like any other code, and it needs to be tested. Make sure that your exception handling code works as expected and handles all the exceptions it's supposed to handle.\n",
    "\n",
    "By following these best practices, you can write better, more robust code that is easier to maintain and debug.\n",
    "\n",
    "'''"
   ]
  },
  {
   "cell_type": "code",
   "execution_count": null,
   "id": "c8097b8f-f823-4c67-a4c4-159b874546f7",
   "metadata": {},
   "outputs": [],
   "source": []
  }
 ],
 "metadata": {
  "kernelspec": {
   "display_name": "Python 3 (ipykernel)",
   "language": "python",
   "name": "python3"
  },
  "language_info": {
   "codemirror_mode": {
    "name": "ipython",
    "version": 3
   },
   "file_extension": ".py",
   "mimetype": "text/x-python",
   "name": "python",
   "nbconvert_exporter": "python",
   "pygments_lexer": "ipython3",
   "version": "3.10.8"
  }
 },
 "nbformat": 4,
 "nbformat_minor": 5
}
